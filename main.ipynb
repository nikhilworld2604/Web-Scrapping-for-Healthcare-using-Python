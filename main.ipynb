{
 "cells": [
  {
   "cell_type": "code",
   "execution_count": 14,
   "metadata": {},
   "outputs": [],
   "source": [
    "import pandas as pd\n",
    "import numpy as np\n",
    "import spacy\n",
    "import matplotlib.pyplot as plt\n",
    "from urllib.request import urlopen\n",
    "from bs4 import BeautifulSoup\n",
    "from collections import defaultdict \n",
    "from collections import Counter\n",
    "import seaborn as sns\n",
    "from chemdataextractor import Document\n",
    "from googletrans import Translator\n",
    "import re\n",
    "import pycountry\n",
    "import warnings\n",
    "warnings.filterwarnings(\"ignore\")\n",
    "%matplotlib inline"
   ]
  },
  {
   "cell_type": "code",
   "execution_count": 30,
   "metadata": {},
   "outputs": [],
   "source": [
    "url_product = \"https://www.synchem.de/about/\"\n",
    "url_contact = \"https://www.synchem.de/contact/\""
   ]
  },
  {
   "cell_type": "code",
   "execution_count": 31,
   "metadata": {},
   "outputs": [
    {
     "name": "stdout",
     "output_type": "stream",
     "text": [
      "['About synchem - Synchem', 'Skip to content', 'Synchem', 'synthesizes rare chemicals from the area of organic chemistry', 'Shop', 'About us', 'Custom synthesis', 'Contact', '0 items', 'Shop', 'About us', 'Custom synthesis', 'Contact', '0 items', 'About synchem', 'About us', 'Synchem UG & Co. KG synthesis rare chemicals from the area of organic chemistry. Synchem UG & Co. KG offers a comprehensive product range from building blocks to intermediates and reagents for the chemical and pharmaceutical industry, research institutes and analytic laboratories.', 'The laboratories execute syntheses in the range of 1-1000g. Synchem UG & Co. KG provides over 3000 products in catalog quantities, most are unique to our company.', 'Key product strengths include: Heterocycles (Pyridines, Pyrazines, Pyrimidines, Indoles,…), bioluminescent substrates (Luciferin, Coelenterazin) and reference compounds (Pesticide, Hydrocarbon, Metabolites).', 'About Us', 'Synchem UG & Co. KG synthesis rare chemicals from the area of organic chemistry. Synchem UG & Co. KG offers a comprehensive product range from building blocks to intermediates and reagents for the chemical and pharmaceutical industry, research institutes and analytic laboratories.', 'Navigation', 'Shop', 'My Account', 'Order Tracking', 'Contact', 'Careers', '© 2017 by Synchem | Made with love by PlatinPower.com GmbH', 'Imprint', 'Terms', 'Bottom Menu', 'Go to Top']\n"
     ]
    }
   ],
   "source": [
    "html_product = urlopen(url_product).read()\n",
    "soup_product = BeautifulSoup(html_product)\n",
    "\n",
    "for script in soup_product([\"script\", \"style\"]):\n",
    "    script.decompose()\n",
    "strips_product = list(soup_product.stripped_strings)\n",
    "print(strips_product)"
   ]
  },
  {
   "cell_type": "code",
   "execution_count": 32,
   "metadata": {},
   "outputs": [
    {
     "name": "stdout",
     "output_type": "stream",
     "text": [
      "About synchem - Synchem Skip to content Synchem synthesizes rare chemicals from the area of organic chemistry Shop About us Custom synthesis Contact 0 items Shop About us Custom synthesis Contact 0 items About synchem About us Synchem UG & Co. KG synthesis rare chemicals from the area of organic chemistry. Synchem UG & Co. KG offers a comprehensive product range from building blocks to intermediates and reagents for the chemical and pharmaceutical industry, research institutes and analytic laboratories. The laboratories execute syntheses in the range of 1-1000g. Synchem UG & Co. KG provides over 3000 products in catalog quantities, most are unique to our company. Key product strengths include: Heterocycles (Pyridines, Pyrazines, Pyrimidines, Indoles,…), bioluminescent substrates (Luciferin, Coelenterazin) and reference compounds (Pesticide, Hydrocarbon, Metabolites). About Us Synchem UG & Co. KG synthesis rare chemicals from the area of organic chemistry. Synchem UG & Co. KG offers a comprehensive product range from building blocks to intermediates and reagents for the chemical and pharmaceutical industry, research institutes and analytic laboratories. Navigation Shop My Account Order Tracking Contact Careers © 2017 by Synchem | Made with love by PlatinPower.com GmbH Imprint Terms Bottom Menu Go to Top\n"
     ]
    }
   ],
   "source": [
    "lis_product=' '.join([str(elem) for elem in strips_product])\n",
    "translator_product = Translator()\n",
    "translation_product = translator_product.translate(lis_product, dest='en')\n",
    "print(translation_product.text)"
   ]
  },
  {
   "cell_type": "code",
   "execution_count": 33,
   "metadata": {},
   "outputs": [
    {
     "name": "stdout",
     "output_type": "stream",
     "text": [
      "['Contact - Synchem', 'Skip to content', 'Synchem', 'synthesizes rare chemicals from the area of organic chemistry', 'Shop', 'About us', 'Custom synthesis', 'Contact', '0 items', 'Shop', 'About us', 'Custom synthesis', 'Contact', '0 items', 'Contact', 'OUR LOCATION', 'Synchem UG & Co. KG', 'Am Kies 2', 'D-34587 Felsberg / Altenburg, Germany', 'CALL US', '+49 (0) 5662 40873-0', 'DROP US A LINE', 'info@synchem.de', 'HAVE ANY QUESTIONS OR PROPOSITIONS?', 'About Us', 'Synchem UG & Co. KG synthesis rare chemicals from the area of organic chemistry. Synchem UG & Co. KG offers a comprehensive product range from building blocks to intermediates and reagents for the chemical and pharmaceutical industry, research institutes and analytic laboratories.', 'Navigation', 'Shop', 'My Account', 'Order Tracking', 'Contact', 'Careers', '© 2017 by Synchem | Made with love by PlatinPower.com GmbH', 'Imprint', 'Terms', 'Bottom Menu', 'Go to Top']\n"
     ]
    }
   ],
   "source": [
    "html_contact = urlopen(url_contact).read()\n",
    "soup_contact = BeautifulSoup(html_contact)\n",
    "\n",
    "for script in soup_contact([\"script\", \"style\"]):\n",
    "    script.decompose()\n",
    "strips_contact = list(soup_contact.stripped_strings)\n",
    "print(strips_contact)"
   ]
  },
  {
   "cell_type": "code",
   "execution_count": 34,
   "metadata": {},
   "outputs": [
    {
     "name": "stdout",
     "output_type": "stream",
     "text": [
      "Contact - Synchem Skip to content Synchem synthesizes rare chemicals from the area of organic chemistry Shop About us Custom synthesis Contact 0 items Shop About us Custom synthesis Contact 0 items Contact OUR LOCATION Synchem UG & Co. KG Am Kies 2 D-34587 Felsberg / Altenburg, Germany CALL US +49 (0) 5662 40873-0 DROP US A LINE info@synchem.de HAVE ANY QUESTIONS OR PROPOSITIONS? About Us Synchem UG & Co. KG synthesis rare chemicals from the area of organic chemistry. Synchem UG & Co. KG offers a comprehensive product range from building blocks to intermediates and reagents for the chemical and pharmaceutical industry, research institutes and analytic laboratories. Navigation Shop My Account Order Tracking Contact Careers © 2017 by Synchem | Made with love by PlatinPower.com GmbH Imprint Terms Bottom Menu Go to Top\n"
     ]
    }
   ],
   "source": [
    "lis_contact=' '.join([str(elem) for elem in strips_contact])\n",
    "translator_contact = Translator()\n",
    "translation_contact = translator_contact.translate(lis_contact, dest='en')\n",
    "print(translation_contact.text)"
   ]
  },
  {
   "cell_type": "code",
   "execution_count": 35,
   "metadata": {},
   "outputs": [
    {
     "name": "stdout",
     "output_type": "stream",
     "text": [
      "Luciferin Hydrocarbon Pyrimidines Heterocycles Pyridines Indoles Coelenterazin Pyrazines\n"
     ]
    }
   ],
   "source": [
    "doc_product = Document(translation_product.text)\n",
    "k_product=doc_product.cems\n",
    "product= ' '.join([str(elem) for elem in k_product])\n",
    "print(product)"
   ]
  },
  {
   "cell_type": "code",
   "execution_count": 36,
   "metadata": {},
   "outputs": [
    {
     "name": "stdout",
     "output_type": "stream",
     "text": [
      "['+49 (0) 5662 40873-0']\n"
     ]
    }
   ],
   "source": [
    "phone=re.findall(r'[\\+\\(]?[1-9][0-9 .\\-\\(\\)]{8,}[0-9]', translation_contact.text)\n",
    "print(phone)"
   ]
  },
  {
   "cell_type": "code",
   "execution_count": 37,
   "metadata": {},
   "outputs": [
    {
     "name": "stdout",
     "output_type": "stream",
     "text": [
      "['info@synchem.de']\n"
     ]
    }
   ],
   "source": [
    "email=  re.findall(\"([a-zA-Z0-9_.+-]+@[a-zA-Z0-9-]+\\.[a-zA-Z0-9-.]+)\", translation_contact.text)\n",
    "print(email)"
   ]
  },
  {
   "cell_type": "code",
   "execution_count": 38,
   "metadata": {},
   "outputs": [
    {
     "name": "stdout",
     "output_type": "stream",
     "text": [
      "['Germany']\n"
     ]
    }
   ],
   "source": [
    "k=[country.name for country in pycountry.countries if country.name in translation_contact.text]\n",
    "print(k)"
   ]
  },
  {
   "cell_type": "code",
   "execution_count": 39,
   "metadata": {},
   "outputs": [
    {
     "name": "stdout",
     "output_type": "stream",
     "text": [
      "['Synchem UG & Co.']\n"
     ]
    }
   ],
   "source": [
    "nlp = spacy.load('en_core_web_sm')\n",
    "doc_company = nlp(translation_contact.text)\n",
    "t_company=[token.text for token in doc_company.ents if token.label_ == 'ORG']\n",
    "temp = defaultdict(int)\n",
    "for sub in t_company:\n",
    "    for wrd in sub.split():\n",
    "        temp[wrd] += 1\n",
    "res_company = max(temp, key=temp.get)\n",
    "j_company=[word for word in t_company if re.search(res_company, word)]\n",
    "dict1 = dict(Counter(j_company))\n",
    "k_com = max(dict1, key=dict1.get)\n",
    "m_com=[k_com for i in k_com]\n",
    "company=(list(set(m_com)))\n",
    "print(company)"
   ]
  },
  {
   "cell_type": "code",
   "execution_count": 40,
   "metadata": {},
   "outputs": [
    {
     "name": "stdout",
     "output_type": "stream",
     "text": [
      "['Synchem UG & Co.']\n"
     ]
    }
   ],
   "source": [
    "import re\n",
    "n_contact = re.sub('.*w\\.', '', url_contact, 1)\n",
    "k_contact= n_contact.split('/')\n",
    "s_contact=' '.join(k_contact)\n",
    "t_contact=s_contact.split('.')\n",
    "temp_contact = defaultdict(int)\n",
    "for sub in t_contact:\n",
    "    for wrd in sub.split():\n",
    "        temp_contact[wrd] += 1\n",
    "r = max(temp_contact, key=temp_contact.get)\n",
    "j=[word for word in t_company if re.search(r, word,flags=re.I)]\n",
    "dict1 = dict(Counter(j))\n",
    "k_com = max(dict1, key=dict1.get)\n",
    "m_com=[k_com for i in k_com]\n",
    "company=(list(set(m_com)))\n",
    "print(company)"
   ]
  },
  {
   "cell_type": "code",
   "execution_count": 1,
   "metadata": {},
   "outputs": [],
   "source": [
    "#multiple products spread out across multiple pages\n",
    "import pandas as pd\n",
    "dfs = []\n",
    "url = 'https://georganics.sk/all-chemical-products/page/{}'\n",
    "for i in range(20):    \n",
    "    dframe = pd.read_html(url.format(i), header=None)[0]       \n",
    "    dfs.append(dframe)\n",
    "df = pd.concat(dfs)              \n",
    "df.to_csv('Output.csv')"
   ]
  },
  {
   "cell_type": "code",
   "execution_count": 2,
   "metadata": {},
   "outputs": [
    {
     "name": "stdout",
     "output_type": "stream",
     "text": [
      "Pension Altenburg, 2, Am Kies, Altenburg, Rhünda, Felsberg, Schwalm-Eder-Kreis, Hessen, 34587, Deutschland\n"
     ]
    }
   ],
   "source": [
    "#Address\n",
    "from geopy.geocoders import Nominatim\n",
    "geolocator = Nominatim(user_agent=\"main.ipynb\")\n",
    "location = geolocator.geocode(\"Synchem UG & Co. KG\")\n",
    "print(location.address)"
   ]
  },
  {
   "cell_type": "code",
   "execution_count": 1,
   "metadata": {},
   "outputs": [],
   "source": [
    "import requests \n",
    "import re\n",
    "from bs4 import BeautifulSoup as bs\n",
    "import pandas as pd\n",
    "import numpy as np\n",
    "from googletrans import Translator\n",
    "import warnings\n",
    "warnings.filterwarnings(\"ignore\")\n",
    "i = 1\n",
    "titles = []\n",
    "while i != 5:\n",
    "    url = f\"http://www.huinuo-chem.com/en/product.asp?page={i}\"\n",
    "    response = requests.get(url)\n",
    "    html = response.content\n",
    "    soup = bs(html, \"lxml\")\n",
    "    for h3 in soup.find_all(\"a\"):\n",
    "        titles.append(h3.get_text(strip=True))\n",
    "    i = i + 1"
   ]
  },
  {
   "cell_type": "code",
   "execution_count": 2,
   "metadata": {},
   "outputs": [],
   "source": [
    "m=[k for k in titles[:len(titles)]]\n",
    "lo= [el.replace('\\xa0',' ') for el in m]"
   ]
  },
  {
   "cell_type": "code",
   "execution_count": 3,
   "metadata": {},
   "outputs": [],
   "source": [
    "def remove_non_ascii(text): \n",
    "    return ''.join(i for i in text if ord(i)<128) "
   ]
  },
  {
   "cell_type": "code",
   "execution_count": 4,
   "metadata": {},
   "outputs": [],
   "source": [
    "df_pr = pd.DataFrame(lo,columns =['Product'])\n",
    "df_pr['text'] = df_pr['Product'].apply(remove_non_ascii)\n",
    "df_pr['prod'] =df_pr['text'].str.replace('[^a-zA-Z]', ' ')\n",
    "df_pr['produ']=df_pr['prod'].str.strip()\n",
    "df_pr['prok']=df_pr['produ'].str.title()\n",
    "df_pr.drop(['Product','text','prod','produ'], axis = 1,inplace=True)\n",
    "df_r= df_pr.drop_duplicates()\n",
    "df_r.rename(columns = {'prok' : 'Product'}, inplace = True)"
   ]
  },
  {
   "cell_type": "code",
   "execution_count": 5,
   "metadata": {},
   "outputs": [],
   "source": [
    "match_product=pd.read_csv('prod_st.csv')\n",
    "match_product['pr']=match_product['Product'].str.title()\n",
    "match_product.drop(['Product'], axis = 1,inplace=True)\n",
    "df_match= match_product.drop_duplicates()\n",
    "df_match.rename(columns = {'pr' : 'Product'}, inplace = True)"
   ]
  },
  {
   "cell_type": "code",
   "execution_count": 6,
   "metadata": {},
   "outputs": [],
   "source": [
    "out=pd.merge(df_r, df_match, on=['Product'], how='inner')\n",
    "out_unmat=pd.concat([df_r, out]).drop_duplicates(subset=[\"Product\"],keep=False)\n",
    "out_unmat['Product'].replace('', np.nan, inplace=True)\n",
    "out_unmat.dropna(subset=['Product'], inplace=True)"
   ]
  },
  {
   "cell_type": "code",
   "execution_count": 8,
   "metadata": {},
   "outputs": [],
   "source": [
    "out_unmat.to_csv('product.csv')"
   ]
  },
  {
   "cell_type": "code",
   "execution_count": 9,
   "metadata": {},
   "outputs": [
    {
     "data": {
      "text/html": [
       "<div>\n",
       "<style scoped>\n",
       "    .dataframe tbody tr th:only-of-type {\n",
       "        vertical-align: middle;\n",
       "    }\n",
       "\n",
       "    .dataframe tbody tr th {\n",
       "        vertical-align: top;\n",
       "    }\n",
       "\n",
       "    .dataframe thead th {\n",
       "        text-align: right;\n",
       "    }\n",
       "</style>\n",
       "<table border=\"1\" class=\"dataframe\">\n",
       "  <thead>\n",
       "    <tr style=\"text-align: right;\">\n",
       "      <th></th>\n",
       "      <th>Product</th>\n",
       "    </tr>\n",
       "  </thead>\n",
       "  <tbody>\n",
       "    <tr>\n",
       "      <th>11</th>\n",
       "      <td>Calcium Chloride Dih</td>\n",
       "    </tr>\n",
       "    <tr>\n",
       "      <th>12</th>\n",
       "      <td>Magnesium Chloride</td>\n",
       "    </tr>\n",
       "    <tr>\n",
       "      <th>13</th>\n",
       "      <td>Sodium Bicarbonate</td>\n",
       "    </tr>\n",
       "    <tr>\n",
       "      <th>14</th>\n",
       "      <td>Urea</td>\n",
       "    </tr>\n",
       "    <tr>\n",
       "      <th>15</th>\n",
       "      <td>Sodium Acetate Trihydrate</td>\n",
       "    </tr>\n",
       "  </tbody>\n",
       "</table>\n",
       "</div>"
      ],
      "text/plain": [
       "                      Product\n",
       "11       Calcium Chloride Dih\n",
       "12         Magnesium Chloride\n",
       "13         Sodium Bicarbonate\n",
       "14                       Urea\n",
       "15  Sodium Acetate Trihydrate"
      ]
     },
     "execution_count": 9,
     "metadata": {},
     "output_type": "execute_result"
    }
   ],
   "source": [
    "out_unmat.head()"
   ]
  },
  {
   "cell_type": "code",
   "execution_count": 4,
   "metadata": {},
   "outputs": [],
   "source": [
    "import requests\n",
    "from bs4 import BeautifulSoup as bs\n",
    "i = 1\n",
    "titles = []\n",
    "while i != 5:\n",
    "    #url = f\"http://www.huinuo-chem.com/en/product.asp?page={i}\"\n",
    "    url=f\"https://www.synchem.de/shop/page/{i}/\"\n",
    "    response = requests.get(url)\n",
    "    html = response.content\n",
    "    soup = bs(html, \"lxml\")\n",
    "    for h3 in soup.find_all(\"a\"):\n",
    "        titles.append(h3.get_text(strip=True))\n",
    "    i = i + 1"
   ]
  },
  {
   "cell_type": "code",
   "execution_count": 5,
   "metadata": {},
   "outputs": [],
   "source": [
    "m=[k for k in titles[:len(titles)]]\n",
    "lo= [el.replace('\\xa0',' ') for el in m]"
   ]
  },
  {
   "cell_type": "code",
   "execution_count": 6,
   "metadata": {},
   "outputs": [],
   "source": [
    "def remove_non_ascii(text): \n",
    "    return ''.join(i for i in text if ord(i)<128) "
   ]
  },
  {
   "cell_type": "code",
   "execution_count": 7,
   "metadata": {},
   "outputs": [],
   "source": [
    "def remove_num(text): \n",
    "    pattern = re.compile('[\\W_]+')\n",
    "    return(pattern.sub(' ', text))"
   ]
  },
  {
   "cell_type": "code",
   "execution_count": 8,
   "metadata": {},
   "outputs": [],
   "source": [
    "def remove_pat(t):\n",
    "    pat=r\"http\\S+\"\n",
    "    j=re.sub(pat,\" \",t)\n",
    "    return(j)"
   ]
  },
  {
   "cell_type": "code",
   "execution_count": 9,
   "metadata": {},
   "outputs": [],
   "source": [
    "def remove_pert(t):\n",
    "    pat=r\"%\\S+\"\n",
    "    j_pert=re.sub(pat,\" \",t)\n",
    "    return(j_pert)"
   ]
  },
  {
   "cell_type": "code",
   "execution_count": 10,
   "metadata": {},
   "outputs": [],
   "source": [
    "def remove_n_ascii(t):\n",
    "    s=re.sub('[^a-zA-Z-0-9 A-Z]',' ',t)\n",
    "    c=re.sub('\\s+',' ',s)\n",
    "    return(c)"
   ]
  },
  {
   "cell_type": "code",
   "execution_count": 11,
   "metadata": {},
   "outputs": [],
   "source": [
    "def remove_numbers(t):\n",
    "    pat=r\"[A-Z][a-z]*\\d*|\\([^)]+\\)\\d*\"\n",
    "    j=re.sub(pat,\" \",t)\n",
    "    return(j)"
   ]
  },
  {
   "cell_type": "code",
   "execution_count": 12,
   "metadata": {},
   "outputs": [],
   "source": [
    "df_pri = pd.DataFrame(lo,columns =['Product'])\n",
    "df_pri['pat'] = df_pri['Product'].apply(remove_pat)\n",
    "df_pri['prod'] =df_pri['pat'].apply(remove_pert)\n",
    "df_pri['proda'] =df_pri['prod'].apply(remove_n_ascii)\n",
    "df_pri['produ']=df_pri['proda'].str.strip()\n",
    "df_pri['prok']=df_pri['produ'].str.title()\n",
    "df_pri.drop(['Product','pat','prod','produ','proda'], axis = 1,inplace=True)\n",
    "df_ra= df_pri.drop_duplicates()"
   ]
  },
  {
   "cell_type": "code",
   "execution_count": 15,
   "metadata": {},
   "outputs": [],
   "source": [
    "df_ra['prod_num']=df_ra['prok'].apply(remove_numbers)\n",
    "df_ra['prod_num_strip']=df_ra['prod_num'].str.strip()\n",
    "df_ru=df_ra.drop_duplicates()\n",
    "df_ru.drop(['prok','prod_num'],axis=1,inplace=True)\n",
    "df_ru.rename(columns = {'prod_num_strip' : 'prok'}, inplace = True)\n",
    "df_ra.drop(['prod_num','prod_num_strip'],axis=1,inplace=True)"
   ]
  },
  {
   "cell_type": "code",
   "execution_count": 16,
   "metadata": {},
   "outputs": [],
   "source": [
    "out_unmat_produ=pd.concat([df_ra, df_ru]).drop_duplicates(subset=[\"prok\"],keep=False)"
   ]
  },
  {
   "cell_type": "code",
   "execution_count": 17,
   "metadata": {},
   "outputs": [],
   "source": [
    "out=pd.merge(df_ra, out_unmat_produ, on=['prok'], how='inner')"
   ]
  },
  {
   "cell_type": "code",
   "execution_count": 18,
   "metadata": {},
   "outputs": [],
   "source": [
    "def chemprod(t):\n",
    "    doc_product = Document(t)\n",
    "    k_product=doc_product.cems\n",
    "    product= ' '.join([str(elem) for elem in k_product])\n",
    "    return(product)"
   ]
  },
  {
   "cell_type": "code",
   "execution_count": 19,
   "metadata": {},
   "outputs": [],
   "source": [
    "out['pro']=out['prok'].apply(chemprod)"
   ]
  },
  {
   "cell_type": "code",
   "execution_count": 20,
   "metadata": {},
   "outputs": [],
   "source": [
    "match_product=pd.read_csv('prodm.csv')\n",
    "match_product['prok']=match_product['Product'].str.title()\n",
    "match_product.drop(['Product'], axis = 1,inplace=True)\n",
    "df_match= match_product.drop_duplicates()"
   ]
  },
  {
   "cell_type": "code",
   "execution_count": 21,
   "metadata": {},
   "outputs": [],
   "source": [
    "out_prod=pd.merge(out, df_match, on=['prok'], how='inner')"
   ]
  },
  {
   "cell_type": "code",
   "execution_count": null,
   "metadata": {},
   "outputs": [],
   "source": []
  }
 ],
 "metadata": {
  "kernelspec": {
   "display_name": "Python 3",
   "language": "python",
   "name": "python3"
  },
  "language_info": {
   "codemirror_mode": {
    "name": "ipython",
    "version": 3
   },
   "file_extension": ".py",
   "mimetype": "text/x-python",
   "name": "python",
   "nbconvert_exporter": "python",
   "pygments_lexer": "ipython3",
   "version": "3.7.3"
  }
 },
 "nbformat": 4,
 "nbformat_minor": 2
}
